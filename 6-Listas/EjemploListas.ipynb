{
 "cells": [
  {
   "cell_type": "markdown",
   "metadata": {},
   "source": [
    "Listas son mutablses"
   ]
  },
  {
   "cell_type": "code",
   "execution_count": 2,
   "metadata": {},
   "outputs": [
    {
     "name": "stdout",
     "output_type": "stream",
     "text": [
      "[]\n"
     ]
    }
   ],
   "source": [
    "milista = []\n",
    "print(milista)"
   ]
  },
  {
   "cell_type": "code",
   "execution_count": 8,
   "metadata": {},
   "outputs": [
    {
     "name": "stdout",
     "output_type": "stream",
     "text": [
      "[5, 5, True, 6.8, 'Hola', 5, True, 6.8, 'Hola']\n"
     ]
    }
   ],
   "source": [
    "#agregamos elemento a una lista\n",
    "milista.append(5)\n",
    "milista.append(True)\n",
    "milista.append(6.8)\n",
    "milista.append(\"Hola\")\n",
    "print(milista)"
   ]
  },
  {
   "cell_type": "code",
   "execution_count": 9,
   "metadata": {},
   "outputs": [
    {
     "name": "stdout",
     "output_type": "stream",
     "text": [
      "[5, 5, True, 6.8, 'Hola', 5, True, 6.8]\n",
      "Hola\n"
     ]
    }
   ],
   "source": [
    "#eliminar el último elemento\n",
    "elemento =milista.pop()\n",
    "print(milista)\n",
    "print(elemento)"
   ]
  },
  {
   "cell_type": "code",
   "execution_count": 11,
   "metadata": {},
   "outputs": [
    {
     "name": "stdout",
     "output_type": "stream",
     "text": [
      "[5, 5, True, 6.8, 'Hola', 5, True, 6.8, ['soy', 'otra', 'lista']]\n"
     ]
    }
   ],
   "source": [
    "#Listas pueden contener listas\n",
    "\n",
    "milista.append([\"soy\",\"otra\",\"lista\"])\n",
    "print(milista)"
   ]
  },
  {
   "cell_type": "markdown",
   "metadata": {},
   "source": [
    "la funcion len nos da el numero de elementos de una lista"
   ]
  },
  {
   "cell_type": "code",
   "execution_count": 13,
   "metadata": {},
   "outputs": [
    {
     "name": "stdout",
     "output_type": "stream",
     "text": [
      "9\n",
      "True\n"
     ]
    }
   ],
   "source": [
    "print(len(milista))\n",
    "print(milista[6])"
   ]
  },
  {
   "cell_type": "code",
   "execution_count": 14,
   "metadata": {},
   "outputs": [
    {
     "name": "stdout",
     "output_type": "stream",
     "text": [
      "5\n",
      "5\n",
      "True\n",
      "6.8\n",
      "Hola\n",
      "5\n",
      "True\n",
      "6.8\n",
      "['soy', 'otra', 'lista']\n"
     ]
    }
   ],
   "source": [
    "long = len(milista)\n",
    "for i in range(long):\n",
    "    print(milista[i])"
   ]
  },
  {
   "cell_type": "code",
   "execution_count": 15,
   "metadata": {},
   "outputs": [
    {
     "name": "stdout",
     "output_type": "stream",
     "text": [
      "5\n",
      "5\n",
      "True\n",
      "6.8\n",
      "Hola\n",
      "5\n",
      "True\n",
      "6.8\n",
      "['soy', 'otra', 'lista']\n"
     ]
    }
   ],
   "source": [
    "for elemento in milista:\n",
    "    print(elemento)"
   ]
  },
  {
   "cell_type": "markdown",
   "metadata": {},
   "source": [
    "Slicing"
   ]
  },
  {
   "cell_type": "code",
   "execution_count": 19,
   "metadata": {},
   "outputs": [
    {
     "name": "stdout",
     "output_type": "stream",
     "text": [
      "<class 'int'>\n"
     ]
    }
   ],
   "source": [
    "print(type(milista[0]))"
   ]
  },
  {
   "cell_type": "code",
   "execution_count": 17,
   "metadata": {},
   "outputs": [
    {
     "name": "stdout",
     "output_type": "stream",
     "text": [
      "['soy', 'otra', 'lista']\n",
      "[True, 'Hola', True]\n"
     ]
    }
   ],
   "source": [
    "print(milista[-1])\n",
    "print(milista[2:7:2])"
   ]
  }
 ],
 "metadata": {
  "kernelspec": {
   "display_name": "Python 3.8.10 64-bit",
   "language": "python",
   "name": "python3"
  },
  "language_info": {
   "codemirror_mode": {
    "name": "ipython",
    "version": 3
   },
   "file_extension": ".py",
   "mimetype": "text/x-python",
   "name": "python",
   "nbconvert_exporter": "python",
   "pygments_lexer": "ipython3",
   "version": "3.8.10"
  },
  "orig_nbformat": 4,
  "vscode": {
   "interpreter": {
    "hash": "916dbcbb3f70747c44a77c7bcd40155683ae19c65e1c03b4aa3499c5328201f1"
   }
  }
 },
 "nbformat": 4,
 "nbformat_minor": 2
}

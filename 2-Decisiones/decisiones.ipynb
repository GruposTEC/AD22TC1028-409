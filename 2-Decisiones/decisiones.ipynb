{
 "cells": [
  {
   "cell_type": "markdown",
   "metadata": {},
   "source": [
    "# Tema Decisiones\n",
    "- if\n",
    "- else\n",
    "- elif\n",
    "- switch "
   ]
  },
  {
   "cell_type": "markdown",
   "metadata": {},
   "source": [
    "## Usamos valores booleanos\n",
    "-True\n",
    "-False\n",
    "\n",
    "## operadores\n",
    "1. Menor que <\n",
    "2. Mayor que >\n",
    "3. MAyor igual >=\n",
    "4. Menor igual <=\n",
    "5. Igualdad ==\n",
    "6. Diferente !="
   ]
  },
  {
   "cell_type": "code",
   "execution_count": 1,
   "metadata": {},
   "outputs": [
    {
     "name": "stdout",
     "output_type": "stream",
     "text": [
      "True\n"
     ]
    }
   ],
   "source": [
    "valor = 5 > 3\n",
    "print(valor)"
   ]
  },
  {
   "cell_type": "code",
   "execution_count": 6,
   "metadata": {},
   "outputs": [
    {
     "name": "stdout",
     "output_type": "stream",
     "text": [
      "True\n",
      "El nombre es Alfoso\n"
     ]
    }
   ],
   "source": [
    "nombre = \"Alfonso\"\n",
    "\n",
    "valorbooleano = nombre == \"Alfonso\"\n",
    "print(valorbooleano)\n",
    "\n",
    "if valorbooleano:\n",
    "    print(f\"El nombre es Alfoso\")\n",
    "    x = \"si\"\n",
    "    print(x)\n",
    "else:\n",
    "    print(\"No es Alfonso\")\n"
   ]
  },
  {
   "cell_type": "code",
   "execution_count": 7,
   "metadata": {},
   "outputs": [
    {
     "name": "stdout",
     "output_type": "stream",
     "text": [
      "False\n",
      "No soy ni antonio ni Alfonso\n"
     ]
    }
   ],
   "source": [
    "nombre = \"Marco\"\n",
    "\n",
    "valorbooleano = nombre == \"Alfonso\"\n",
    "print(valorbooleano)\n",
    "\n",
    "if valorbooleano:\n",
    "    print(f\"El nombre es Alfoso\")\n",
    "    x = \"si\"\n",
    "    print(x)\n",
    "else:\n",
    "    if(nombre== \"Antonio\"):\n",
    "        print(\"Soy Antonio\")\n",
    "    else:\n",
    "        print(\"No soy ni antonio ni Alfonso\")"
   ]
  },
  {
   "cell_type": "code",
   "execution_count": 8,
   "metadata": {},
   "outputs": [
    {
     "name": "stdout",
     "output_type": "stream",
     "text": [
      "False\n",
      "No soy ni antonio ni Alfonso\n"
     ]
    }
   ],
   "source": [
    "nombre = \"Marco\"\n",
    "\n",
    "valorbooleano = nombre == \"Alfonso\"\n",
    "print(valorbooleano)\n",
    "\n",
    "if valorbooleano:\n",
    "    print(f\"El nombre es Alfoso\")\n",
    "    x = \"si\"\n",
    "    print(x)\n",
    "elif(nombre== \"Antonio\"):\n",
    "    print(\"Soy Antonio\")\n",
    "else:\n",
    "    print(\"No soy ni antonio ni Alfonso\")"
   ]
  },
  {
   "cell_type": "markdown",
   "metadata": {},
   "source": [
    "# Múltiples comparaciones\n",
    "- and Verdadero si TODOS son verdaderos\n",
    "- or  Verdadero si al MENOS uno es verdadero"
   ]
  },
  {
   "cell_type": "code",
   "execution_count": 9,
   "metadata": {},
   "outputs": [
    {
     "name": "stdout",
     "output_type": "stream",
     "text": [
      "False\n",
      "No soy ni antonio ni Alfonso\n"
     ]
    }
   ],
   "source": [
    "nombre = \"Marco\"\n",
    "\n",
    "valorbooleano = (nombre == \"Alfonso\" or nombre == \"Antonio\")\n",
    "print(valorbooleano)\n",
    "\n",
    "if valorbooleano:\n",
    "    print(f\"El nombre es Alfoso\")\n",
    "    x = \"si\"\n",
    "    print(x)\n",
    "else:\n",
    "    if(nombre== \"Antonio\"):\n",
    "        print(\"Soy Antonio\")\n",
    "    else:\n",
    "        print(\"No soy ni antonio ni Alfonso\")"
   ]
  },
  {
   "cell_type": "code",
   "execution_count": 16,
   "metadata": {},
   "outputs": [
    {
     "name": "stdout",
     "output_type": "stream",
     "text": [
      "El nombre es MArco Flores\n",
      "si\n"
     ]
    }
   ],
   "source": [
    "nombre = \"Marco\"\n",
    "apellido = \"Flores\"\n",
    "\n",
    "if ((nombre == \"Alfonso\" or nombre == \"Antonio\") or (nombre == \"Marco\" and apellido == \"Flores\")):\n",
    "    print(f\"El nombre es MArco Flores\")\n",
    "    x = \"si\"\n",
    "    print(x)\n",
    "else:\n",
    "    if(nombre== \"Antonio\"):\n",
    "        print(\"Soy Antonio\")\n",
    "    else:\n",
    "        print(\"No soy ni antonio ni Alfonso\")"
   ]
  },
  {
   "cell_type": "markdown",
   "metadata": {},
   "source": [
    "Adentro del **if** puede ser lo que sea incluso llamadas a funciones, pero el resultado debe de ser un booleano"
   ]
  },
  {
   "cell_type": "code",
   "execution_count": 13,
   "metadata": {},
   "outputs": [
    {
     "name": "stdout",
     "output_type": "stream",
     "text": [
      "No soy ni antonio ni Alfonso\n"
     ]
    }
   ],
   "source": [
    "nombre = \"Marco\"\n",
    "\n",
    "if (bool(int(input(\"Escribe 1 o 0\")))):\n",
    "    print(f\"El nombre es Alfoso\")\n",
    "    x = \"si\"\n",
    "    print(x)\n",
    "else:\n",
    "    if(nombre== \"Antonio\"):\n",
    "        print(\"Soy Antonio\")\n",
    "    else:\n",
    "        print(\"No soy ni antonio ni Alfonso\")"
   ]
  }
 ],
 "metadata": {
  "kernelspec": {
   "display_name": "Python 3.8.10 64-bit",
   "language": "python",
   "name": "python3"
  },
  "language_info": {
   "codemirror_mode": {
    "name": "ipython",
    "version": 3
   },
   "file_extension": ".py",
   "mimetype": "text/x-python",
   "name": "python",
   "nbconvert_exporter": "python",
   "pygments_lexer": "ipython3",
   "version": "3.8.10"
  },
  "orig_nbformat": 4,
  "vscode": {
   "interpreter": {
    "hash": "916dbcbb3f70747c44a77c7bcd40155683ae19c65e1c03b4aa3499c5328201f1"
   }
  }
 },
 "nbformat": 4,
 "nbformat_minor": 2
}
